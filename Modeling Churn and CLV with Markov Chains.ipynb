{
 "cells": [
  {
   "cell_type": "markdown",
   "metadata": {},
   "source": [
    "# Modeling Churn and CLV with Markov Chains\n",
    "\n"
   ]
  },
  {
   "cell_type": "code",
   "execution_count": 40,
   "metadata": {},
   "outputs": [],
   "source": [
    "# import modules\n",
    "import itertools as it\n",
    "from collections import Counter\n",
    "\n",
    "import numpy as np\n",
    "import pandas as pd\n",
    "import scipy.stats as stats\n",
    "import seaborn as sns\n",
    "import matplotlib.pyplot as plt\n",
    "\n",
    "# settings for plots\n",
    "%matplotlib inline\n",
    "sns.set(font_scale=1.3)\n",
    "sns.set_palette(sns.husl_palette(3))\n",
    "green = sns.husl_palette(3)[1]\n",
    "blue = sns.husl_palette(3)[2]\n",
    "\n",
    "# load data and set column labels\n",
    "transactions = pd.read_table('purchases.txt', header=None)\n",
    "transactions.columns = ['user_id', 'value', 'date']"
   ]
  },
  {
   "cell_type": "code",
   "execution_count": 41,
   "metadata": {},
   "outputs": [
    {
     "data": {
      "text/html": [
       "<div>\n",
       "<style scoped>\n",
       "    .dataframe tbody tr th:only-of-type {\n",
       "        vertical-align: middle;\n",
       "    }\n",
       "\n",
       "    .dataframe tbody tr th {\n",
       "        vertical-align: top;\n",
       "    }\n",
       "\n",
       "    .dataframe thead th {\n",
       "        text-align: right;\n",
       "    }\n",
       "</style>\n",
       "<table border=\"1\" class=\"dataframe\">\n",
       "  <thead>\n",
       "    <tr style=\"text-align: right;\">\n",
       "      <th></th>\n",
       "      <th>user_id</th>\n",
       "      <th>value</th>\n",
       "      <th>date</th>\n",
       "    </tr>\n",
       "  </thead>\n",
       "  <tbody>\n",
       "    <tr>\n",
       "      <th>0</th>\n",
       "      <td>760</td>\n",
       "      <td>25.0</td>\n",
       "      <td>2009-11-06</td>\n",
       "    </tr>\n",
       "    <tr>\n",
       "      <th>1</th>\n",
       "      <td>860</td>\n",
       "      <td>50.0</td>\n",
       "      <td>2012-09-28</td>\n",
       "    </tr>\n",
       "    <tr>\n",
       "      <th>2</th>\n",
       "      <td>1200</td>\n",
       "      <td>100.0</td>\n",
       "      <td>2005-10-25</td>\n",
       "    </tr>\n",
       "    <tr>\n",
       "      <th>3</th>\n",
       "      <td>1420</td>\n",
       "      <td>50.0</td>\n",
       "      <td>2009-07-09</td>\n",
       "    </tr>\n",
       "    <tr>\n",
       "      <th>4</th>\n",
       "      <td>1940</td>\n",
       "      <td>70.0</td>\n",
       "      <td>2013-01-25</td>\n",
       "    </tr>\n",
       "  </tbody>\n",
       "</table>\n",
       "</div>"
      ],
      "text/plain": [
       "   user_id  value        date\n",
       "0      760   25.0  2009-11-06\n",
       "1      860   50.0  2012-09-28\n",
       "2     1200  100.0  2005-10-25\n",
       "3     1420   50.0  2009-07-09\n",
       "4     1940   70.0  2013-01-25"
      ]
     },
     "execution_count": 41,
     "metadata": {},
     "output_type": "execute_result"
    }
   ],
   "source": [
    "# examine data\n",
    "transactions.head()"
   ]
  },
  {
   "cell_type": "code",
   "execution_count": 42,
   "metadata": {},
   "outputs": [
    {
     "name": "stdout",
     "output_type": "stream",
     "text": [
      "<class 'pandas.core.frame.DataFrame'>\n",
      "RangeIndex: 51243 entries, 0 to 51242\n",
      "Data columns (total 3 columns):\n",
      "user_id    51243 non-null int64\n",
      "value      51243 non-null float64\n",
      "date       51243 non-null object\n",
      "dtypes: float64(1), int64(1), object(1)\n",
      "memory usage: 1.2+ MB\n"
     ]
    }
   ],
   "source": [
    "# examine data\n",
    "transactions.info()"
   ]
  },
  {
   "cell_type": "markdown",
   "metadata": {},
   "source": [
    "The data are individual purchases and include user id, the date of purchase, and the value of the purchase. Note that the date is of the `object` type. This needs to be converted to a `datetime`."
   ]
  },
  {
   "cell_type": "code",
   "execution_count": 43,
   "metadata": {},
   "outputs": [],
   "source": [
    "## Deal with datetime issues\n",
    "\n",
    "# convert date to datetime\n",
    "transactions['date'] = pd.to_datetime(transactions.date)\n",
    "\n",
    "# set date as the index\n",
    "transactions = transactions.set_index('date')\n",
    "\n",
    "# convert dates to years\n",
    "transactions = transactions.to_period('A')\n",
    "\n",
    "# reset index\n",
    "transactions = transactions.reset_index()"
   ]
  },
  {
   "cell_type": "code",
   "execution_count": 44,
   "metadata": {},
   "outputs": [
    {
     "data": {
      "text/html": [
       "<div>\n",
       "<style scoped>\n",
       "    .dataframe tbody tr th:only-of-type {\n",
       "        vertical-align: middle;\n",
       "    }\n",
       "\n",
       "    .dataframe tbody tr th {\n",
       "        vertical-align: top;\n",
       "    }\n",
       "\n",
       "    .dataframe thead th {\n",
       "        text-align: right;\n",
       "    }\n",
       "</style>\n",
       "<table border=\"1\" class=\"dataframe\">\n",
       "  <thead>\n",
       "    <tr style=\"text-align: right;\">\n",
       "      <th></th>\n",
       "      <th>user_id</th>\n",
       "      <th>value</th>\n",
       "    </tr>\n",
       "  </thead>\n",
       "  <tbody>\n",
       "    <tr>\n",
       "      <th>count</th>\n",
       "      <td>51243.000000</td>\n",
       "      <td>51243.000000</td>\n",
       "    </tr>\n",
       "    <tr>\n",
       "      <th>mean</th>\n",
       "      <td>108934.547938</td>\n",
       "      <td>62.337195</td>\n",
       "    </tr>\n",
       "    <tr>\n",
       "      <th>std</th>\n",
       "      <td>67650.610139</td>\n",
       "      <td>156.606801</td>\n",
       "    </tr>\n",
       "    <tr>\n",
       "      <th>min</th>\n",
       "      <td>10.000000</td>\n",
       "      <td>5.000000</td>\n",
       "    </tr>\n",
       "    <tr>\n",
       "      <th>25%</th>\n",
       "      <td>57720.000000</td>\n",
       "      <td>25.000000</td>\n",
       "    </tr>\n",
       "    <tr>\n",
       "      <th>50%</th>\n",
       "      <td>102440.000000</td>\n",
       "      <td>30.000000</td>\n",
       "    </tr>\n",
       "    <tr>\n",
       "      <th>75%</th>\n",
       "      <td>160525.000000</td>\n",
       "      <td>60.000000</td>\n",
       "    </tr>\n",
       "    <tr>\n",
       "      <th>max</th>\n",
       "      <td>264200.000000</td>\n",
       "      <td>4500.000000</td>\n",
       "    </tr>\n",
       "  </tbody>\n",
       "</table>\n",
       "</div>"
      ],
      "text/plain": [
       "             user_id         value\n",
       "count   51243.000000  51243.000000\n",
       "mean   108934.547938     62.337195\n",
       "std     67650.610139    156.606801\n",
       "min        10.000000      5.000000\n",
       "25%     57720.000000     25.000000\n",
       "50%    102440.000000     30.000000\n",
       "75%    160525.000000     60.000000\n",
       "max    264200.000000   4500.000000"
      ]
     },
     "execution_count": 44,
     "metadata": {},
     "output_type": "execute_result"
    }
   ],
   "source": [
    "# examine descriptive statistics\n",
    "transactions.describe()"
   ]
  },
  {
   "cell_type": "markdown",
   "metadata": {},
   "source": [
    "Three matrices are needed to analyze the recency, frequency, and monetary value of each customer."
   ]
  },
  {
   "cell_type": "code",
   "execution_count": 45,
   "metadata": {},
   "outputs": [
    {
     "data": {
      "text/html": [
       "<div>\n",
       "<style scoped>\n",
       "    .dataframe tbody tr th:only-of-type {\n",
       "        vertical-align: middle;\n",
       "    }\n",
       "\n",
       "    .dataframe tbody tr th {\n",
       "        vertical-align: top;\n",
       "    }\n",
       "\n",
       "    .dataframe thead th {\n",
       "        text-align: right;\n",
       "    }\n",
       "</style>\n",
       "<table border=\"1\" class=\"dataframe\">\n",
       "  <thead>\n",
       "    <tr style=\"text-align: right;\">\n",
       "      <th>date</th>\n",
       "      <th>2005</th>\n",
       "      <th>2006</th>\n",
       "      <th>2007</th>\n",
       "      <th>2008</th>\n",
       "      <th>2009</th>\n",
       "      <th>2010</th>\n",
       "      <th>2011</th>\n",
       "      <th>2012</th>\n",
       "      <th>2013</th>\n",
       "      <th>2014</th>\n",
       "      <th>2015</th>\n",
       "    </tr>\n",
       "    <tr>\n",
       "      <th>user_id</th>\n",
       "      <th></th>\n",
       "      <th></th>\n",
       "      <th></th>\n",
       "      <th></th>\n",
       "      <th></th>\n",
       "      <th></th>\n",
       "      <th></th>\n",
       "      <th></th>\n",
       "      <th></th>\n",
       "      <th></th>\n",
       "      <th></th>\n",
       "    </tr>\n",
       "  </thead>\n",
       "  <tbody>\n",
       "    <tr>\n",
       "      <th>10</th>\n",
       "      <td>1</td>\n",
       "      <td>0</td>\n",
       "      <td>0</td>\n",
       "      <td>0</td>\n",
       "      <td>0</td>\n",
       "      <td>0</td>\n",
       "      <td>0</td>\n",
       "      <td>0</td>\n",
       "      <td>0</td>\n",
       "      <td>0</td>\n",
       "      <td>0</td>\n",
       "    </tr>\n",
       "    <tr>\n",
       "      <th>80</th>\n",
       "      <td>1</td>\n",
       "      <td>0</td>\n",
       "      <td>1</td>\n",
       "      <td>0</td>\n",
       "      <td>1</td>\n",
       "      <td>0</td>\n",
       "      <td>1</td>\n",
       "      <td>0</td>\n",
       "      <td>1</td>\n",
       "      <td>1</td>\n",
       "      <td>1</td>\n",
       "    </tr>\n",
       "    <tr>\n",
       "      <th>90</th>\n",
       "      <td>1</td>\n",
       "      <td>1</td>\n",
       "      <td>1</td>\n",
       "      <td>1</td>\n",
       "      <td>1</td>\n",
       "      <td>1</td>\n",
       "      <td>1</td>\n",
       "      <td>2</td>\n",
       "      <td>1</td>\n",
       "      <td>0</td>\n",
       "      <td>0</td>\n",
       "    </tr>\n",
       "    <tr>\n",
       "      <th>120</th>\n",
       "      <td>0</td>\n",
       "      <td>0</td>\n",
       "      <td>0</td>\n",
       "      <td>0</td>\n",
       "      <td>0</td>\n",
       "      <td>0</td>\n",
       "      <td>0</td>\n",
       "      <td>1</td>\n",
       "      <td>0</td>\n",
       "      <td>0</td>\n",
       "      <td>0</td>\n",
       "    </tr>\n",
       "    <tr>\n",
       "      <th>130</th>\n",
       "      <td>1</td>\n",
       "      <td>0</td>\n",
       "      <td>1</td>\n",
       "      <td>0</td>\n",
       "      <td>0</td>\n",
       "      <td>0</td>\n",
       "      <td>0</td>\n",
       "      <td>0</td>\n",
       "      <td>0</td>\n",
       "      <td>0</td>\n",
       "      <td>0</td>\n",
       "    </tr>\n",
       "  </tbody>\n",
       "</table>\n",
       "</div>"
      ],
      "text/plain": [
       "date     2005  2006  2007  2008  2009  2010  2011  2012  2013  2014  2015\n",
       "user_id                                                                  \n",
       "10          1     0     0     0     0     0     0     0     0     0     0\n",
       "80          1     0     1     0     1     0     1     0     1     1     1\n",
       "90          1     1     1     1     1     1     1     2     1     0     0\n",
       "120         0     0     0     0     0     0     0     1     0     0     0\n",
       "130         1     0     1     0     0     0     0     0     0     0     0"
      ]
     },
     "execution_count": 45,
     "metadata": {},
     "output_type": "execute_result"
    }
   ],
   "source": [
    "# get purchase frequency matrix\n",
    "freq = pd.crosstab(transactions.user_id, transactions.date)\n",
    "\n",
    "# examine purchase frequency matrix\n",
    "freq.head()"
   ]
  },
  {
   "cell_type": "code",
   "execution_count": 46,
   "metadata": {},
   "outputs": [],
   "source": [
    "# encode frequency segments\n",
    "for y in freq.columns:\n",
    "    freq.loc[:, y] = freq.loc[:, y].apply(lambda x: 2 if x > 1 else x)"
   ]
  },
  {
   "cell_type": "code",
   "execution_count": 47,
   "metadata": {},
   "outputs": [
    {
     "data": {
      "text/html": [
       "<div>\n",
       "<style scoped>\n",
       "    .dataframe tbody tr th:only-of-type {\n",
       "        vertical-align: middle;\n",
       "    }\n",
       "\n",
       "    .dataframe tbody tr th {\n",
       "        vertical-align: top;\n",
       "    }\n",
       "\n",
       "    .dataframe thead th {\n",
       "        text-align: right;\n",
       "    }\n",
       "</style>\n",
       "<table border=\"1\" class=\"dataframe\">\n",
       "  <thead>\n",
       "    <tr style=\"text-align: right;\">\n",
       "      <th>date</th>\n",
       "      <th>2005</th>\n",
       "      <th>2006</th>\n",
       "      <th>2007</th>\n",
       "      <th>2008</th>\n",
       "      <th>2009</th>\n",
       "      <th>2010</th>\n",
       "      <th>2011</th>\n",
       "      <th>2012</th>\n",
       "      <th>2013</th>\n",
       "      <th>2014</th>\n",
       "      <th>2015</th>\n",
       "    </tr>\n",
       "    <tr>\n",
       "      <th>user_id</th>\n",
       "      <th></th>\n",
       "      <th></th>\n",
       "      <th></th>\n",
       "      <th></th>\n",
       "      <th></th>\n",
       "      <th></th>\n",
       "      <th></th>\n",
       "      <th></th>\n",
       "      <th></th>\n",
       "      <th></th>\n",
       "      <th></th>\n",
       "    </tr>\n",
       "  </thead>\n",
       "  <tbody>\n",
       "    <tr>\n",
       "      <th>10</th>\n",
       "      <td>1</td>\n",
       "      <td>0</td>\n",
       "      <td>0</td>\n",
       "      <td>0</td>\n",
       "      <td>0</td>\n",
       "      <td>0</td>\n",
       "      <td>0</td>\n",
       "      <td>0</td>\n",
       "      <td>0</td>\n",
       "      <td>0</td>\n",
       "      <td>0</td>\n",
       "    </tr>\n",
       "    <tr>\n",
       "      <th>80</th>\n",
       "      <td>1</td>\n",
       "      <td>0</td>\n",
       "      <td>1</td>\n",
       "      <td>0</td>\n",
       "      <td>1</td>\n",
       "      <td>0</td>\n",
       "      <td>1</td>\n",
       "      <td>0</td>\n",
       "      <td>1</td>\n",
       "      <td>1</td>\n",
       "      <td>1</td>\n",
       "    </tr>\n",
       "    <tr>\n",
       "      <th>90</th>\n",
       "      <td>1</td>\n",
       "      <td>1</td>\n",
       "      <td>1</td>\n",
       "      <td>1</td>\n",
       "      <td>1</td>\n",
       "      <td>1</td>\n",
       "      <td>1</td>\n",
       "      <td>2</td>\n",
       "      <td>1</td>\n",
       "      <td>0</td>\n",
       "      <td>0</td>\n",
       "    </tr>\n",
       "    <tr>\n",
       "      <th>120</th>\n",
       "      <td>0</td>\n",
       "      <td>0</td>\n",
       "      <td>0</td>\n",
       "      <td>0</td>\n",
       "      <td>0</td>\n",
       "      <td>0</td>\n",
       "      <td>0</td>\n",
       "      <td>1</td>\n",
       "      <td>0</td>\n",
       "      <td>0</td>\n",
       "      <td>0</td>\n",
       "    </tr>\n",
       "    <tr>\n",
       "      <th>130</th>\n",
       "      <td>1</td>\n",
       "      <td>0</td>\n",
       "      <td>1</td>\n",
       "      <td>0</td>\n",
       "      <td>0</td>\n",
       "      <td>0</td>\n",
       "      <td>0</td>\n",
       "      <td>0</td>\n",
       "      <td>0</td>\n",
       "      <td>0</td>\n",
       "      <td>0</td>\n",
       "    </tr>\n",
       "  </tbody>\n",
       "</table>\n",
       "</div>"
      ],
      "text/plain": [
       "date     2005  2006  2007  2008  2009  2010  2011  2012  2013  2014  2015\n",
       "user_id                                                                  \n",
       "10          1     0     0     0     0     0     0     0     0     0     0\n",
       "80          1     0     1     0     1     0     1     0     1     1     1\n",
       "90          1     1     1     1     1     1     1     2     1     0     0\n",
       "120         0     0     0     0     0     0     0     1     0     0     0\n",
       "130         1     0     1     0     0     0     0     0     0     0     0"
      ]
     },
     "execution_count": 47,
     "metadata": {},
     "output_type": "execute_result"
    }
   ],
   "source": [
    "freq.head()"
   ]
  },
  {
   "cell_type": "code",
   "execution_count": 48,
   "metadata": {},
   "outputs": [
    {
     "data": {
      "text/plain": [
       "array([0, 1, 2], dtype=int64)"
      ]
     },
     "execution_count": 48,
     "metadata": {},
     "output_type": "execute_result"
    }
   ],
   "source": [
    "# get frequency states\n",
    "F = freq.values.copy()\n",
    "n, m = F.shape\n",
    "for i in range(n):\n",
    "    for j in range(m):\n",
    "        if (m != 0) and F[i, j] == 0:\n",
    "            F[i, j] = F[i, j-1]\n",
    "\n",
    "np.unique(F)"
   ]
  },
  {
   "cell_type": "code",
   "execution_count": 49,
   "metadata": {},
   "outputs": [
    {
     "data": {
      "text/html": [
       "<div>\n",
       "<style scoped>\n",
       "    .dataframe tbody tr th:only-of-type {\n",
       "        vertical-align: middle;\n",
       "    }\n",
       "\n",
       "    .dataframe tbody tr th {\n",
       "        vertical-align: top;\n",
       "    }\n",
       "\n",
       "    .dataframe thead th {\n",
       "        text-align: right;\n",
       "    }\n",
       "</style>\n",
       "<table border=\"1\" class=\"dataframe\">\n",
       "  <thead>\n",
       "    <tr style=\"text-align: right;\">\n",
       "      <th>date</th>\n",
       "      <th>2005</th>\n",
       "      <th>2006</th>\n",
       "      <th>2007</th>\n",
       "      <th>2008</th>\n",
       "      <th>2009</th>\n",
       "      <th>2010</th>\n",
       "      <th>2011</th>\n",
       "      <th>2012</th>\n",
       "      <th>2013</th>\n",
       "      <th>2014</th>\n",
       "      <th>2015</th>\n",
       "    </tr>\n",
       "  </thead>\n",
       "  <tbody>\n",
       "    <tr>\n",
       "      <th>count</th>\n",
       "      <td>1225.000000</td>\n",
       "      <td>2036.000000</td>\n",
       "      <td>4112.000000</td>\n",
       "      <td>3913.000000</td>\n",
       "      <td>4423.000000</td>\n",
       "      <td>4337.000000</td>\n",
       "      <td>4123.000000</td>\n",
       "      <td>5289.000000</td>\n",
       "      <td>5187.000000</td>\n",
       "      <td>4923.000000</td>\n",
       "      <td>5398.000000</td>\n",
       "    </tr>\n",
       "    <tr>\n",
       "      <th>mean</th>\n",
       "      <td>66.991347</td>\n",
       "      <td>55.997294</td>\n",
       "      <td>55.997082</td>\n",
       "      <td>58.741089</td>\n",
       "      <td>57.984741</td>\n",
       "      <td>66.893456</td>\n",
       "      <td>73.718130</td>\n",
       "      <td>70.894940</td>\n",
       "      <td>77.426293</td>\n",
       "      <td>87.886492</td>\n",
       "      <td>88.624329</td>\n",
       "    </tr>\n",
       "    <tr>\n",
       "      <th>std</th>\n",
       "      <td>146.045770</td>\n",
       "      <td>107.189257</td>\n",
       "      <td>142.884489</td>\n",
       "      <td>150.701224</td>\n",
       "      <td>121.490009</td>\n",
       "      <td>179.650688</td>\n",
       "      <td>162.258198</td>\n",
       "      <td>156.988972</td>\n",
       "      <td>208.346206</td>\n",
       "      <td>232.693344</td>\n",
       "      <td>224.356897</td>\n",
       "    </tr>\n",
       "    <tr>\n",
       "      <th>min</th>\n",
       "      <td>7.000000</td>\n",
       "      <td>5.000000</td>\n",
       "      <td>5.000000</td>\n",
       "      <td>5.000000</td>\n",
       "      <td>5.000000</td>\n",
       "      <td>5.000000</td>\n",
       "      <td>5.000000</td>\n",
       "      <td>5.000000</td>\n",
       "      <td>5.000000</td>\n",
       "      <td>5.000000</td>\n",
       "      <td>5.000000</td>\n",
       "    </tr>\n",
       "    <tr>\n",
       "      <th>25%</th>\n",
       "      <td>25.000000</td>\n",
       "      <td>20.000000</td>\n",
       "      <td>20.000000</td>\n",
       "      <td>20.000000</td>\n",
       "      <td>20.000000</td>\n",
       "      <td>25.000000</td>\n",
       "      <td>30.000000</td>\n",
       "      <td>30.000000</td>\n",
       "      <td>30.000000</td>\n",
       "      <td>30.000000</td>\n",
       "      <td>30.000000</td>\n",
       "    </tr>\n",
       "    <tr>\n",
       "      <th>50%</th>\n",
       "      <td>35.000000</td>\n",
       "      <td>30.000000</td>\n",
       "      <td>30.000000</td>\n",
       "      <td>30.000000</td>\n",
       "      <td>30.000000</td>\n",
       "      <td>40.000000</td>\n",
       "      <td>45.000000</td>\n",
       "      <td>40.000000</td>\n",
       "      <td>40.000000</td>\n",
       "      <td>45.000000</td>\n",
       "      <td>50.000000</td>\n",
       "    </tr>\n",
       "    <tr>\n",
       "      <th>75%</th>\n",
       "      <td>60.000000</td>\n",
       "      <td>50.000000</td>\n",
       "      <td>55.000000</td>\n",
       "      <td>60.000000</td>\n",
       "      <td>60.000000</td>\n",
       "      <td>60.000000</td>\n",
       "      <td>70.000000</td>\n",
       "      <td>60.000000</td>\n",
       "      <td>65.000000</td>\n",
       "      <td>80.000000</td>\n",
       "      <td>85.000000</td>\n",
       "    </tr>\n",
       "    <tr>\n",
       "      <th>max</th>\n",
       "      <td>3050.000000</td>\n",
       "      <td>3000.000000</td>\n",
       "      <td>3600.000000</td>\n",
       "      <td>4007.000000</td>\n",
       "      <td>4700.000000</td>\n",
       "      <td>5750.000000</td>\n",
       "      <td>3500.000000</td>\n",
       "      <td>4000.000000</td>\n",
       "      <td>4000.000000</td>\n",
       "      <td>5000.000000</td>\n",
       "      <td>4500.000000</td>\n",
       "    </tr>\n",
       "  </tbody>\n",
       "</table>\n",
       "</div>"
      ],
      "text/plain": [
       "date          2005         2006         2007         2008         2009  \\\n",
       "count  1225.000000  2036.000000  4112.000000  3913.000000  4423.000000   \n",
       "mean     66.991347    55.997294    55.997082    58.741089    57.984741   \n",
       "std     146.045770   107.189257   142.884489   150.701224   121.490009   \n",
       "min       7.000000     5.000000     5.000000     5.000000     5.000000   \n",
       "25%      25.000000    20.000000    20.000000    20.000000    20.000000   \n",
       "50%      35.000000    30.000000    30.000000    30.000000    30.000000   \n",
       "75%      60.000000    50.000000    55.000000    60.000000    60.000000   \n",
       "max    3050.000000  3000.000000  3600.000000  4007.000000  4700.000000   \n",
       "\n",
       "date          2010         2011         2012         2013         2014  \\\n",
       "count  4337.000000  4123.000000  5289.000000  5187.000000  4923.000000   \n",
       "mean     66.893456    73.718130    70.894940    77.426293    87.886492   \n",
       "std     179.650688   162.258198   156.988972   208.346206   232.693344   \n",
       "min       5.000000     5.000000     5.000000     5.000000     5.000000   \n",
       "25%      25.000000    30.000000    30.000000    30.000000    30.000000   \n",
       "50%      40.000000    45.000000    40.000000    40.000000    45.000000   \n",
       "75%      60.000000    70.000000    60.000000    65.000000    80.000000   \n",
       "max    5750.000000  3500.000000  4000.000000  4000.000000  5000.000000   \n",
       "\n",
       "date          2015  \n",
       "count  5398.000000  \n",
       "mean     88.624329  \n",
       "std     224.356897  \n",
       "min       5.000000  \n",
       "25%      30.000000  \n",
       "50%      50.000000  \n",
       "75%      85.000000  \n",
       "max    4500.000000  "
      ]
     },
     "execution_count": 49,
     "metadata": {},
     "output_type": "execute_result"
    }
   ],
   "source": [
    "# get purchase value matrix and examine\n",
    "mon = pd.crosstab(transactions.user_id, transactions.date, transactions.value, aggfunc=np.sum)\n",
    "mon.describe()"
   ]
  },
  {
   "cell_type": "code",
   "execution_count": 50,
   "metadata": {},
   "outputs": [
    {
     "data": {
      "text/html": [
       "<div>\n",
       "<style scoped>\n",
       "    .dataframe tbody tr th:only-of-type {\n",
       "        vertical-align: middle;\n",
       "    }\n",
       "\n",
       "    .dataframe tbody tr th {\n",
       "        vertical-align: top;\n",
       "    }\n",
       "\n",
       "    .dataframe thead th {\n",
       "        text-align: right;\n",
       "    }\n",
       "</style>\n",
       "<table border=\"1\" class=\"dataframe\">\n",
       "  <thead>\n",
       "    <tr style=\"text-align: right;\">\n",
       "      <th>date</th>\n",
       "      <th>2005</th>\n",
       "      <th>2006</th>\n",
       "      <th>2007</th>\n",
       "      <th>2008</th>\n",
       "      <th>2009</th>\n",
       "      <th>2010</th>\n",
       "      <th>2011</th>\n",
       "      <th>2012</th>\n",
       "      <th>2013</th>\n",
       "      <th>2014</th>\n",
       "      <th>2015</th>\n",
       "    </tr>\n",
       "    <tr>\n",
       "      <th>user_id</th>\n",
       "      <th></th>\n",
       "      <th></th>\n",
       "      <th></th>\n",
       "      <th></th>\n",
       "      <th></th>\n",
       "      <th></th>\n",
       "      <th></th>\n",
       "      <th></th>\n",
       "      <th></th>\n",
       "      <th></th>\n",
       "      <th></th>\n",
       "    </tr>\n",
       "  </thead>\n",
       "  <tbody>\n",
       "    <tr>\n",
       "      <th>10</th>\n",
       "      <td>30.0</td>\n",
       "      <td>NaN</td>\n",
       "      <td>NaN</td>\n",
       "      <td>NaN</td>\n",
       "      <td>NaN</td>\n",
       "      <td>NaN</td>\n",
       "      <td>NaN</td>\n",
       "      <td>NaN</td>\n",
       "      <td>NaN</td>\n",
       "      <td>NaN</td>\n",
       "      <td>NaN</td>\n",
       "    </tr>\n",
       "    <tr>\n",
       "      <th>80</th>\n",
       "      <td>50.0</td>\n",
       "      <td>NaN</td>\n",
       "      <td>60.0</td>\n",
       "      <td>NaN</td>\n",
       "      <td>70.0</td>\n",
       "      <td>NaN</td>\n",
       "      <td>80.0</td>\n",
       "      <td>NaN</td>\n",
       "      <td>80.0</td>\n",
       "      <td>80.0</td>\n",
       "      <td>80.0</td>\n",
       "    </tr>\n",
       "    <tr>\n",
       "      <th>90</th>\n",
       "      <td>153.0</td>\n",
       "      <td>150.0</td>\n",
       "      <td>150.0</td>\n",
       "      <td>150.0</td>\n",
       "      <td>75.0</td>\n",
       "      <td>80.0</td>\n",
       "      <td>100.0</td>\n",
       "      <td>200.0</td>\n",
       "      <td>100.0</td>\n",
       "      <td>NaN</td>\n",
       "      <td>NaN</td>\n",
       "    </tr>\n",
       "    <tr>\n",
       "      <th>120</th>\n",
       "      <td>NaN</td>\n",
       "      <td>NaN</td>\n",
       "      <td>NaN</td>\n",
       "      <td>NaN</td>\n",
       "      <td>NaN</td>\n",
       "      <td>NaN</td>\n",
       "      <td>NaN</td>\n",
       "      <td>20.0</td>\n",
       "      <td>NaN</td>\n",
       "      <td>NaN</td>\n",
       "      <td>NaN</td>\n",
       "    </tr>\n",
       "    <tr>\n",
       "      <th>130</th>\n",
       "      <td>40.0</td>\n",
       "      <td>NaN</td>\n",
       "      <td>60.0</td>\n",
       "      <td>NaN</td>\n",
       "      <td>NaN</td>\n",
       "      <td>NaN</td>\n",
       "      <td>NaN</td>\n",
       "      <td>NaN</td>\n",
       "      <td>NaN</td>\n",
       "      <td>NaN</td>\n",
       "      <td>NaN</td>\n",
       "    </tr>\n",
       "  </tbody>\n",
       "</table>\n",
       "</div>"
      ],
      "text/plain": [
       "date      2005   2006   2007   2008  2009  2010   2011   2012   2013  2014  \\\n",
       "user_id                                                                      \n",
       "10        30.0    NaN    NaN    NaN   NaN   NaN    NaN    NaN    NaN   NaN   \n",
       "80        50.0    NaN   60.0    NaN  70.0   NaN   80.0    NaN   80.0  80.0   \n",
       "90       153.0  150.0  150.0  150.0  75.0  80.0  100.0  200.0  100.0   NaN   \n",
       "120        NaN    NaN    NaN    NaN   NaN   NaN    NaN   20.0    NaN   NaN   \n",
       "130       40.0    NaN   60.0    NaN   NaN   NaN    NaN    NaN    NaN   NaN   \n",
       "\n",
       "date     2015  \n",
       "user_id        \n",
       "10        NaN  \n",
       "80       80.0  \n",
       "90        NaN  \n",
       "120       NaN  \n",
       "130       NaN  "
      ]
     },
     "execution_count": 50,
     "metadata": {},
     "output_type": "execute_result"
    }
   ],
   "source": [
    "mon.head()"
   ]
  },
  {
   "cell_type": "markdown",
   "metadata": {},
   "source": [
    "We have assigned three monetary states:\n",
    "\n",
    "* 0: never made a purchase\n",
    "* 1: last purchase was less than \\$30\n",
    "* 2: last purchase was greater than \\$30"
   ]
  },
  {
   "cell_type": "code",
   "execution_count": 51,
   "metadata": {},
   "outputs": [
    {
     "data": {
      "text/plain": [
       "array([0., 1., 2.])"
      ]
     },
     "execution_count": 51,
     "metadata": {},
     "output_type": "execute_result"
    }
   ],
   "source": [
    "# get monetary states\n",
    "M = mon.values.copy()\n",
    "M[np.isnan(M)] = 0\n",
    "M[np.where(np.logical_and(M>0, M<30))] = 1\n",
    "M[np.where(M>=30)]=2\n",
    "for i in range(n):\n",
    "    for j in range(m):\n",
    "        if j > 0 and M[i,j] == 0:\n",
    "            M[i,j] = M[i, j-1]\n",
    "\n",
    "np.unique(M)"
   ]
  },
  {
   "cell_type": "code",
   "execution_count": 52,
   "metadata": {},
   "outputs": [
    {
     "data": {
      "text/plain": [
       "array([ 0,  1,  2,  3,  4,  5,  6,  7,  8,  9, 10, 11], dtype=int64)"
      ]
     },
     "execution_count": 52,
     "metadata": {},
     "output_type": "execute_result"
    }
   ],
   "source": [
    "# get recency states\n",
    "R = freq.values.copy()\n",
    "for i in range(n):\n",
    "    for j in range(m):\n",
    "        if (j == 0) and (R[i, j] > 0):\n",
    "            R[i, j] = 1\n",
    "        elif j > 0:\n",
    "            if R[i, j] > 0:\n",
    "                R[i, j] = 1\n",
    "            elif (R[i, j-1] > 0):\n",
    "                R[i, j] = R[i, j-1] + 1\n",
    "np.unique(R)"
   ]
  },
  {
   "cell_type": "code",
   "execution_count": 53,
   "metadata": {},
   "outputs": [
    {
     "data": {
      "text/html": [
       "<div>\n",
       "<style scoped>\n",
       "    .dataframe tbody tr th:only-of-type {\n",
       "        vertical-align: middle;\n",
       "    }\n",
       "\n",
       "    .dataframe tbody tr th {\n",
       "        vertical-align: top;\n",
       "    }\n",
       "\n",
       "    .dataframe thead th {\n",
       "        text-align: right;\n",
       "    }\n",
       "</style>\n",
       "<table border=\"1\" class=\"dataframe\">\n",
       "  <thead>\n",
       "    <tr style=\"text-align: right;\">\n",
       "      <th></th>\n",
       "      <th>0</th>\n",
       "      <th>1</th>\n",
       "      <th>2</th>\n",
       "      <th>3</th>\n",
       "      <th>4</th>\n",
       "      <th>5</th>\n",
       "      <th>6</th>\n",
       "      <th>7</th>\n",
       "      <th>8</th>\n",
       "      <th>9</th>\n",
       "      <th>10</th>\n",
       "    </tr>\n",
       "  </thead>\n",
       "  <tbody>\n",
       "    <tr>\n",
       "      <th>0</th>\n",
       "      <td>1</td>\n",
       "      <td>2</td>\n",
       "      <td>3</td>\n",
       "      <td>4</td>\n",
       "      <td>5</td>\n",
       "      <td>6</td>\n",
       "      <td>7</td>\n",
       "      <td>8</td>\n",
       "      <td>9</td>\n",
       "      <td>10</td>\n",
       "      <td>11</td>\n",
       "    </tr>\n",
       "    <tr>\n",
       "      <th>1</th>\n",
       "      <td>1</td>\n",
       "      <td>2</td>\n",
       "      <td>1</td>\n",
       "      <td>2</td>\n",
       "      <td>1</td>\n",
       "      <td>2</td>\n",
       "      <td>1</td>\n",
       "      <td>2</td>\n",
       "      <td>1</td>\n",
       "      <td>1</td>\n",
       "      <td>1</td>\n",
       "    </tr>\n",
       "    <tr>\n",
       "      <th>2</th>\n",
       "      <td>1</td>\n",
       "      <td>1</td>\n",
       "      <td>1</td>\n",
       "      <td>1</td>\n",
       "      <td>1</td>\n",
       "      <td>1</td>\n",
       "      <td>1</td>\n",
       "      <td>1</td>\n",
       "      <td>1</td>\n",
       "      <td>2</td>\n",
       "      <td>3</td>\n",
       "    </tr>\n",
       "    <tr>\n",
       "      <th>3</th>\n",
       "      <td>0</td>\n",
       "      <td>0</td>\n",
       "      <td>0</td>\n",
       "      <td>0</td>\n",
       "      <td>0</td>\n",
       "      <td>0</td>\n",
       "      <td>0</td>\n",
       "      <td>1</td>\n",
       "      <td>2</td>\n",
       "      <td>3</td>\n",
       "      <td>4</td>\n",
       "    </tr>\n",
       "    <tr>\n",
       "      <th>4</th>\n",
       "      <td>1</td>\n",
       "      <td>2</td>\n",
       "      <td>1</td>\n",
       "      <td>2</td>\n",
       "      <td>3</td>\n",
       "      <td>4</td>\n",
       "      <td>5</td>\n",
       "      <td>6</td>\n",
       "      <td>7</td>\n",
       "      <td>8</td>\n",
       "      <td>9</td>\n",
       "    </tr>\n",
       "  </tbody>\n",
       "</table>\n",
       "</div>"
      ],
      "text/plain": [
       "   0   1   2   3   4   5   6   7   8   9   10\n",
       "0   1   2   3   4   5   6   7   8   9  10  11\n",
       "1   1   2   1   2   1   2   1   2   1   1   1\n",
       "2   1   1   1   1   1   1   1   1   1   2   3\n",
       "3   0   0   0   0   0   0   0   1   2   3   4\n",
       "4   1   2   1   2   3   4   5   6   7   8   9"
      ]
     },
     "execution_count": 53,
     "metadata": {},
     "output_type": "execute_result"
    }
   ],
   "source": [
    "# examine R\n",
    "pd.DataFrame(R).head()"
   ]
  },
  {
   "cell_type": "markdown",
   "metadata": {},
   "source": [
    "We have assigned 22 total states:\n",
    "\n",
    "20 are the cartesian product of:\n",
    "* 2 monetary states (high and low)\n",
    "* 2 freqency states (high and low)\n",
    "* 5 recency states (purchase this period through 4 periods ago)\n",
    "\n",
    "1 absorbing or churn state (recency greater than five)\n",
    "\n",
    "1 inactive state for customers that have not yet made a purchase\n",
    "\n",
    "States are encoded as tuples of the form (M, F, R), and a hashmap is used to convert tuples to integers so that a state matrix can be created."
   ]
  },
  {
   "cell_type": "code",
   "execution_count": 54,
   "metadata": {},
   "outputs": [],
   "source": [
    "# initialize hashmap\n",
    "state_map = dict()\n",
    "\n",
    "# get possible states for m, f, r\n",
    "ms = [0, 1, 2]\n",
    "fs = [0, 1, 2]\n",
    "rs = list(range(11))\n",
    "\n",
    "# get cartesian product of m, f, r states\n",
    "states = it.product(ms, fs, rs)\n",
    "\n",
    "# assign inactive states to 0\n",
    "for state in states:\n",
    "    if state[0] == 0 or state[1] == 0:\n",
    "        state_map[state] = 0\n",
    "\n",
    "# assign states 1-21 to customers who have made purchases but not yet churned\n",
    "state = 1\n",
    "for r in range(1, 12):\n",
    "    state_tuple = (2, 2, r)\n",
    "    state_map[state_tuple] = state\n",
    "    state += 1\n",
    "    state_tuple = (2, 1, r)\n",
    "    state_map[state_tuple] = state\n",
    "    state += 1\n",
    "    state_tuple = (1, 2, r)\n",
    "    state_map[state_tuple] = state\n",
    "    state += 1\n",
    "    state_tuple = (1, 1, r)\n",
    "    state_map[state_tuple] = state\n",
    "    state += 1\n",
    "\n",
    "# assign state 21 to the absorbing state (churn, recency greater than five)\n",
    "for state in state_map.keys():\n",
    "    if state[2] > 5:\n",
    "        state_map[state] = 21"
   ]
  },
  {
   "cell_type": "code",
   "execution_count": 55,
   "metadata": {},
   "outputs": [
    {
     "data": {
      "text/plain": [
       "array([ 0,  1,  2,  3,  4,  5,  6,  7,  8,  9, 10, 11, 12, 13, 14, 15, 16,\n",
       "       17, 18, 19, 20, 21])"
      ]
     },
     "execution_count": 55,
     "metadata": {},
     "output_type": "execute_result"
    }
   ],
   "source": [
    "# examine state_map values\n",
    "unique_states = np.unique(list(state_map.values()))\n",
    "unique_states"
   ]
  },
  {
   "cell_type": "code",
   "execution_count": 56,
   "metadata": {},
   "outputs": [],
   "source": [
    "# collect M, F, R into a single array\n",
    "MFR = np.zeros((n, m, 3))\n",
    "MFR[:, :, 0] = M.copy()\n",
    "MFR[:, :, 1] = F.copy()\n",
    "MFR[:, :, 2] = R.copy()"
   ]
  },
  {
   "cell_type": "markdown",
   "metadata": {},
   "source": [
    "Indexing into the collected MFR array returns tuples, which can be fed into the state map and used to populate a state matrix, which shows every user's state at every period."
   ]
  },
  {
   "cell_type": "code",
   "execution_count": 57,
   "metadata": {},
   "outputs": [],
   "source": [
    "# initialize state matrix\n",
    "S = np.zeros((n, m), dtype=int)\n",
    "for i in range(n):\n",
    "    for j in range(m):\n",
    "        # each entry of S is the corresponding tuple from MFR, passed through the state_map\n",
    "        S[i, j] = int(state_map[tuple(MFR[i, j, :].astype(int))])"
   ]
  },
  {
   "cell_type": "code",
   "execution_count": 58,
   "metadata": {},
   "outputs": [
    {
     "data": {
      "text/html": [
       "<div>\n",
       "<style scoped>\n",
       "    .dataframe tbody tr th:only-of-type {\n",
       "        vertical-align: middle;\n",
       "    }\n",
       "\n",
       "    .dataframe tbody tr th {\n",
       "        vertical-align: top;\n",
       "    }\n",
       "\n",
       "    .dataframe thead th {\n",
       "        text-align: right;\n",
       "    }\n",
       "</style>\n",
       "<table border=\"1\" class=\"dataframe\">\n",
       "  <thead>\n",
       "    <tr style=\"text-align: right;\">\n",
       "      <th></th>\n",
       "      <th>0</th>\n",
       "      <th>1</th>\n",
       "      <th>2</th>\n",
       "      <th>3</th>\n",
       "      <th>4</th>\n",
       "      <th>5</th>\n",
       "      <th>6</th>\n",
       "      <th>7</th>\n",
       "      <th>8</th>\n",
       "      <th>9</th>\n",
       "      <th>10</th>\n",
       "    </tr>\n",
       "  </thead>\n",
       "  <tbody>\n",
       "    <tr>\n",
       "      <th>0</th>\n",
       "      <td>2</td>\n",
       "      <td>6</td>\n",
       "      <td>10</td>\n",
       "      <td>14</td>\n",
       "      <td>18</td>\n",
       "      <td>21</td>\n",
       "      <td>21</td>\n",
       "      <td>21</td>\n",
       "      <td>21</td>\n",
       "      <td>21</td>\n",
       "      <td>21</td>\n",
       "    </tr>\n",
       "    <tr>\n",
       "      <th>1</th>\n",
       "      <td>2</td>\n",
       "      <td>6</td>\n",
       "      <td>2</td>\n",
       "      <td>6</td>\n",
       "      <td>2</td>\n",
       "      <td>6</td>\n",
       "      <td>2</td>\n",
       "      <td>6</td>\n",
       "      <td>2</td>\n",
       "      <td>2</td>\n",
       "      <td>2</td>\n",
       "    </tr>\n",
       "    <tr>\n",
       "      <th>2</th>\n",
       "      <td>2</td>\n",
       "      <td>2</td>\n",
       "      <td>2</td>\n",
       "      <td>2</td>\n",
       "      <td>2</td>\n",
       "      <td>2</td>\n",
       "      <td>2</td>\n",
       "      <td>1</td>\n",
       "      <td>2</td>\n",
       "      <td>6</td>\n",
       "      <td>10</td>\n",
       "    </tr>\n",
       "    <tr>\n",
       "      <th>3</th>\n",
       "      <td>0</td>\n",
       "      <td>0</td>\n",
       "      <td>0</td>\n",
       "      <td>0</td>\n",
       "      <td>0</td>\n",
       "      <td>0</td>\n",
       "      <td>0</td>\n",
       "      <td>4</td>\n",
       "      <td>8</td>\n",
       "      <td>12</td>\n",
       "      <td>16</td>\n",
       "    </tr>\n",
       "    <tr>\n",
       "      <th>4</th>\n",
       "      <td>2</td>\n",
       "      <td>6</td>\n",
       "      <td>2</td>\n",
       "      <td>6</td>\n",
       "      <td>10</td>\n",
       "      <td>14</td>\n",
       "      <td>18</td>\n",
       "      <td>21</td>\n",
       "      <td>21</td>\n",
       "      <td>21</td>\n",
       "      <td>21</td>\n",
       "    </tr>\n",
       "  </tbody>\n",
       "</table>\n",
       "</div>"
      ],
      "text/plain": [
       "   0   1   2   3   4   5   6   7   8   9   10\n",
       "0   2   6  10  14  18  21  21  21  21  21  21\n",
       "1   2   6   2   6   2   6   2   6   2   2   2\n",
       "2   2   2   2   2   2   2   2   1   2   6  10\n",
       "3   0   0   0   0   0   0   0   4   8  12  16\n",
       "4   2   6   2   6  10  14  18  21  21  21  21"
      ]
     },
     "execution_count": 58,
     "metadata": {},
     "output_type": "execute_result"
    }
   ],
   "source": [
    "# examine S\n",
    "pd.DataFrame(S).head()"
   ]
  },
  {
   "cell_type": "markdown",
   "metadata": {},
   "source": [
    "From this state matrix, transition matrices can be calculated by counting state changes between periods."
   ]
  },
  {
   "cell_type": "code",
   "execution_count": 59,
   "metadata": {},
   "outputs": [],
   "source": [
    "# get num states\n",
    "n_states = len(unique_states)"
   ]
  },
  {
   "cell_type": "code",
   "execution_count": 60,
   "metadata": {},
   "outputs": [
    {
     "data": {
      "text/plain": [
       "array([[  92,  135,    1,   35,   82,    0,    0,    0,    0],\n",
       "       [ 142, 1148,    1,   84,    0, 1011,    0,    0,    0],\n",
       "       [   0,    0,    2,    8,    0,    0,    9,    0,    0],\n",
       "       [  38,  101,    7,  298,    0,    0,    0,  719,    0],\n",
       "       [  18,   59,    1,   12,    0,    0,    0,    0,  127],\n",
       "       [  62,  248,    0,   40,    0,    0,    0,    0,    0],\n",
       "       [   0,    0,    2,    0,    0,    0,    0,    0,    0],\n",
       "       [  24,   69,    4,   91,    0,    0,    0,    0,    0],\n",
       "       [   0,    3,    0,    1,    0,    0,    0,    0,    0]])"
      ]
     },
     "execution_count": 60,
     "metadata": {},
     "output_type": "execute_result"
    }
   ],
   "source": [
    "# initialize transition array. Each slice is a 22x22 transition matrix, one for each transition between periods\n",
    "T_freq = np.zeros((n_states, n_states, 10), dtype=int)\n",
    "\n",
    "for p in range(10):\n",
    "    for r in range(n):\n",
    "        i = S[r, p]\n",
    "        j = S[r, p+1]\n",
    "        T_freq[i, j, p] += 1\n",
    "        \n",
    "# examine one slice\n",
    "T_freq[1:10, 1:10, 3]"
   ]
  },
  {
   "cell_type": "markdown",
   "metadata": {},
   "source": [
    "Per period transition frequency matrices are collapsed into a single transition frequency matrix for the whole dataset. From this, a transition probability matrix is calculated."
   ]
  },
  {
   "cell_type": "code",
   "execution_count": 61,
   "metadata": {},
   "outputs": [
    {
     "data": {
      "text/plain": [
       "array([[ 1285,  1370,    11,   299,  1320,     0,     0,     0,     0],\n",
       "       [ 1338, 12772,     4,   450,     0, 11139,     0,     0,     0],\n",
       "       [   17,     1,    21,    68,     0,     0,    73,     0,     0],\n",
       "       [  345,   775,    64,  2537,     0,     0,     0,  5679,     0],\n",
       "       [   99,   224,     4,    66,     0,     0,     0,     0,   778],\n",
       "       [  203,  1474,     0,   118,     0,     0,     0,     0,     0],\n",
       "       [    1,     1,     3,    13,     0,     0,     0,     0,     0],\n",
       "       [   83,   218,    15,   427,     0,     0,     0,     0,     0],\n",
       "       [   16,    70,     0,    13,     0,     0,     0,     0,     0]])"
      ]
     },
     "execution_count": 61,
     "metadata": {},
     "output_type": "execute_result"
    }
   ],
   "source": [
    "# sum over all periods\n",
    "T_freq_total = T_freq.sum(axis=2)\n",
    "\n",
    "# examine totals\n",
    "T_freq_total[1:10, 1:10]"
   ]
  },
  {
   "cell_type": "code",
   "execution_count": 62,
   "metadata": {},
   "outputs": [
    {
     "name": "stdout",
     "output_type": "stream",
     "text": [
      "churn returns: 334\n",
      "total transitions: 93463\n",
      "percent missed purchases: 0.0035736066678792675\n"
     ]
    }
   ],
   "source": [
    "# get number of churned customers who returned\n",
    "churn_returns = T_freq_total[-1, 1:][:-1].sum()\n",
    "print('churn returns: {}'.format(churn_returns))\n",
    "\n",
    "# get total transitions\n",
    "total_transitions = T_freq_total[1:, 1:].sum()\n",
    "print('total transitions: {}'.format(total_transitions))\n",
    "\n",
    "# percent of purchases missed, assuming churners wouldn't return\n",
    "# if they weren't marketed to\n",
    "percent_missed_purchases = churn_returns / total_transitions\n",
    "print('percent missed purchases: {}'.format(percent_missed_purchases))"
   ]
  },
  {
   "cell_type": "code",
   "execution_count": 63,
   "metadata": {},
   "outputs": [
    {
     "data": {
      "text/plain": [
       "array([[0.3  , 0.32 , 0.003, 0.07 , 0.308, 0.   , 0.   , 0.   ],\n",
       "       [0.052, 0.497, 0.   , 0.018, 0.   , 0.433, 0.   , 0.   ],\n",
       "       [0.094, 0.006, 0.117, 0.378, 0.   , 0.   , 0.406, 0.   ],\n",
       "       [0.037, 0.082, 0.007, 0.27 , 0.   , 0.   , 0.   , 0.604],\n",
       "       [0.085, 0.191, 0.003, 0.056, 0.   , 0.   , 0.   , 0.   ],\n",
       "       [0.021, 0.151, 0.   , 0.012, 0.   , 0.   , 0.   , 0.   ],\n",
       "       [0.014, 0.014, 0.043, 0.188, 0.   , 0.   , 0.   , 0.   ],\n",
       "       [0.016, 0.041, 0.003, 0.081, 0.   , 0.   , 0.   , 0.   ]])"
      ]
     },
     "execution_count": 63,
     "metadata": {},
     "output_type": "execute_result"
    }
   ],
   "source": [
    "# initialze transition probability matrix\n",
    "T_prob = np.zeros(T_freq_total.shape)\n",
    "# populate values\n",
    "for r in range(n_states):\n",
    "    T_prob[r, :] = T_freq_total[r, :]/T_freq[r, :].sum()\n",
    "    \n",
    "# convert the last row into an absorbing state\n",
    "T_prob[-1, :] = 0\n",
    "T_prob[-1, -1] = 1\n",
    "\n",
    "# examine transition matrix    \n",
    "T_prob[1:9, 1:9].round(3)"
   ]
  },
  {
   "cell_type": "code",
   "execution_count": 64,
   "metadata": {},
   "outputs": [
    {
     "name": "stderr",
     "output_type": "stream",
     "text": [
      "C:\\ProgramData\\Anaconda3\\lib\\site-packages\\ipykernel_launcher.py:2: RuntimeWarning: invalid value encountered in greater_equal\n",
      "  \n",
      "C:\\ProgramData\\Anaconda3\\lib\\site-packages\\ipykernel_launcher.py:3: RuntimeWarning: invalid value encountered in greater_equal\n",
      "  This is separate from the ipykernel package so we can avoid doing imports until\n",
      "C:\\ProgramData\\Anaconda3\\lib\\site-packages\\ipykernel_launcher.py:4: RuntimeWarning: invalid value encountered in less\n",
      "  after removing the cwd from sys.path.\n",
      "C:\\ProgramData\\Anaconda3\\lib\\site-packages\\ipykernel_launcher.py:5: RuntimeWarning: invalid value encountered in less\n",
      "  \"\"\"\n"
     ]
    }
   ],
   "source": [
    "# get purchase amounts for purchasing states\n",
    "rev_2_2 = mon.values.copy()[np.logical_and(mon.values >= 30, freq.values > 1)]\n",
    "rev_2_1 = mon.values.copy()[np.logical_and(mon.values >= 30, freq.values == 1)]\n",
    "rev_1_2 = mon.values.copy()[np.logical_and(mon.values < 30, freq.values > 1)]\n",
    "rev_1_1 = mon.values.copy()[np.logical_and(mon.values < 30, freq.values == 1)]"
   ]
  },
  {
   "cell_type": "code",
   "execution_count": 65,
   "metadata": {},
   "outputs": [
    {
     "data": {
      "text/plain": [
       "133.14923013585837"
      ]
     },
     "execution_count": 65,
     "metadata": {},
     "output_type": "execute_result"
    }
   ],
   "source": [
    "# get rewards\n",
    "r22 = rev_2_2.mean()\n",
    "r22"
   ]
  },
  {
   "cell_type": "code",
   "execution_count": 66,
   "metadata": {},
   "outputs": [
    {
     "data": {
      "text/plain": [
       "79.97323793395428"
      ]
     },
     "execution_count": 66,
     "metadata": {},
     "output_type": "execute_result"
    }
   ],
   "source": [
    "r21 = rev_2_1.mean()\n",
    "r21"
   ]
  },
  {
   "cell_type": "code",
   "execution_count": 67,
   "metadata": {},
   "outputs": [
    {
     "data": {
      "text/plain": [
       "20.50995024875622"
      ]
     },
     "execution_count": 67,
     "metadata": {},
     "output_type": "execute_result"
    }
   ],
   "source": [
    "r12 = rev_1_2.mean()\n",
    "r12"
   ]
  },
  {
   "cell_type": "code",
   "execution_count": 68,
   "metadata": {},
   "outputs": [
    {
     "data": {
      "text/plain": [
       "17.547061259872855"
      ]
     },
     "execution_count": 68,
     "metadata": {},
     "output_type": "execute_result"
    }
   ],
   "source": [
    "r11 = rev_1_1.mean()\n",
    "r11"
   ]
  },
  {
   "cell_type": "code",
   "execution_count": 69,
   "metadata": {},
   "outputs": [
    {
     "data": {
      "text/plain": [
       "0.9090909090909091"
      ]
     },
     "execution_count": 69,
     "metadata": {},
     "output_type": "execute_result"
    }
   ],
   "source": [
    "# set marketing cost and discount rate\n",
    "cost = 10\n",
    "d = .1\n",
    "discount = 1/(1+d)\n",
    "discount"
   ]
  },
  {
   "cell_type": "markdown",
   "metadata": {},
   "source": [
    "We have set the cost to \\$10 and the discount rate to .1, which gives the following reward vector."
   ]
  },
  {
   "cell_type": "code",
   "execution_count": 70,
   "metadata": {},
   "outputs": [
    {
     "data": {
      "text/plain": [
       "array([123.14923014,  69.97323793,  10.50995025,   7.54706126,\n",
       "       -10.        , -10.        , -10.        , -10.        ,\n",
       "       -10.        , -10.        , -10.        , -10.        ,\n",
       "       -10.        , -10.        , -10.        , -10.        ,\n",
       "       -10.        , -10.        , -10.        , -10.        ,\n",
       "         0.        ])"
      ]
     },
     "execution_count": 70,
     "metadata": {},
     "output_type": "execute_result"
    }
   ],
   "source": [
    "# initialize reward matrix\n",
    "r = np.zeros(21)\n",
    "# set rewards for recency 1 states\n",
    "r[:4] = np.array([r22, r21, r12, r11]) - cost\n",
    "\n",
    "# set rewards for higher recency states\n",
    "r[4:-1] = -cost\n",
    "r"
   ]
  },
  {
   "cell_type": "markdown",
   "metadata": {},
   "source": [
    "Customer Lifetime Value (CLV) is the infinite sum of all future costs and revenues for a customer in each state, and is calculated according to the formula:\n",
    "\n",
    "$$\\sum_{n=0}^{\\infty}{\\left[{(1 + d)^{-1}}\\boldsymbol{T}\\right]^n\\boldsymbol{R}} = \\left[\\boldsymbol{I} - \\left(1+d\\right)^{-1}\\boldsymbol{T}\\right]^{-1}\\boldsymbol{R}$$\n",
    "\n",
    "where $\\boldsymbol{T}$ is the transition matrix, $\\boldsymbol{R}$ is the reward vector, $\\boldsymbol{I}$ is the identity matrix, and $d$ is the discount rate."
   ]
  },
  {
   "cell_type": "code",
   "execution_count": 71,
   "metadata": {},
   "outputs": [
    {
     "data": {
      "text/plain": [
       "array([ 2.56173840e+02,  1.64870470e+02,  4.46211014e+01,  3.23988639e+01,\n",
       "        4.68011183e+01,  1.97337015e+01, -1.24107355e+01, -7.78986054e+00,\n",
       "        1.09980920e+01,  2.53920290e+00, -2.27268170e+01, -1.30509010e+01,\n",
       "       -2.48212936e-01, -2.44938332e+00, -1.59738971e+01, -1.07654198e+01,\n",
       "        2.90075884e-01, -1.36896253e+00, -7.54554061e+00, -5.12275374e+00,\n",
       "        0.00000000e+00])"
      ]
     },
     "execution_count": 71,
     "metadata": {},
     "output_type": "execute_result"
    }
   ],
   "source": [
    "def clv(T, R, d):\n",
    "    # get dimensions of T\n",
    "    n = T.shape[0]\n",
    "    # calculate CLV\n",
    "    return np.linalg.inv(np.eye(n) - (1/(1+d))*T).dot(R)\n",
    "\n",
    "CLV = clv(T_prob[1:, 1:], r, d)\n",
    "\n",
    "CLV"
   ]
  },
  {
   "cell_type": "markdown",
   "metadata": {},
   "source": [
    "Positive values indicate states at which continuing to market to the customer will lead to positive cash flow. Negative values represent a net loss with continued marketing.\n",
    "\n",
    "A policy can be implemented by only marketing to customers with a positive CLV:"
   ]
  },
  {
   "cell_type": "code",
   "execution_count": 72,
   "metadata": {},
   "outputs": [
    {
     "data": {
      "text/plain": [
       "array([1., 1., 1., 1., 1., 1., 0., 0., 1., 1., 0., 0., 0., 0., 0., 0., 1.,\n",
       "       0., 0., 0., 0.])"
      ]
     },
     "execution_count": 72,
     "metadata": {},
     "output_type": "execute_result"
    }
   ],
   "source": [
    "policy = np.zeros(21)\n",
    "policy[CLV > 0] = 1\n",
    "policy[CLV <= 0] = 0\n",
    "# this is the final policy\n",
    "policy"
   ]
  },
  {
   "cell_type": "code",
   "execution_count": 73,
   "metadata": {},
   "outputs": [
    {
     "data": {
      "text/plain": [
       "array([[ 7],\n",
       "       [ 8],\n",
       "       [11],\n",
       "       [12],\n",
       "       [13],\n",
       "       [14],\n",
       "       [15],\n",
       "       [16],\n",
       "       [18],\n",
       "       [19],\n",
       "       [20],\n",
       "       [21]], dtype=int64)"
      ]
     },
     "execution_count": 73,
     "metadata": {},
     "output_type": "execute_result"
    }
   ],
   "source": [
    "# states that should not be marketed to\n",
    "np.argwhere(policy == 0) + 1"
   ]
  },
  {
   "cell_type": "markdown",
   "metadata": {},
   "source": [
    "Using the Markov model from above, along with the specified reward vector, cash flow projections can be made over the next ten years, and we can see the impact that our recommended policy will have."
   ]
  },
  {
   "cell_type": "code",
   "execution_count": 74,
   "metadata": {},
   "outputs": [
    {
     "data": {
      "text/plain": [
       "array([[17192, 15830, 13109, 11038,  9469],\n",
       "       [  215,   132,   466,   345,   525],\n",
       "       [  684,  1312,  2282,  2386,  2648],\n",
       "       [    9,     3,    29,    19,    26],\n",
       "       [  317,   589,  1335,  1163,  1224]])"
      ]
     },
     "execution_count": 74,
     "metadata": {},
     "output_type": "execute_result"
    }
   ],
   "source": [
    "# get counts for all states for each period\n",
    "state_counts = np.zeros((22, 11), dtype=int)\n",
    "for p in range(11):\n",
    "    counts = Counter(S[:, p])\n",
    "    for state in range(22):\n",
    "        state_counts[state, p] = counts[state]\n",
    "\n",
    "state_counts[:5, :5]"
   ]
  },
  {
   "cell_type": "code",
   "execution_count": 75,
   "metadata": {},
   "outputs": [
    {
     "name": "stdout",
     "output_type": "stream",
     "text": [
      "written off returns: 2226\n",
      "total transitions: 93463\n",
      "percent missed purchases: 0.0238\n"
     ]
    }
   ],
   "source": [
    "# get number of written-off customers who returned\n",
    "policy_write_off_returns = T_freq_total[1:, 1:5][np.argwhere(policy == 0)].sum()\n",
    "print('written off returns: {}'.format(policy_write_off_returns))\n",
    "\n",
    "# get total transitions\n",
    "total_transitions = T_freq_total[1:, 1:].sum()\n",
    "print('total transitions: {}'.format(total_transitions))\n",
    "\n",
    "# percent of purchases missed, assuming customers wouldn't return\n",
    "# if they weren't marketed to\n",
    "percent_missed_purchases = policy_write_off_returns / total_transitions\n",
    "print('percent missed purchases: {:.4f}'.format(percent_missed_purchases))"
   ]
  },
  {
   "cell_type": "markdown",
   "metadata": {},
   "source": [
    "Projections are made by modifying the transition matrix to allow new customers to enter, and iterating over 10 years."
   ]
  },
  {
   "cell_type": "code",
   "execution_count": 76,
   "metadata": {},
   "outputs": [
    {
     "data": {
      "text/plain": [
       "array([[1362.],\n",
       "       [2721.],\n",
       "       [2071.],\n",
       "       [1569.],\n",
       "       [1459.],\n",
       "       [1267.],\n",
       "       [1888.],\n",
       "       [1906.],\n",
       "       [1437.],\n",
       "       [1512.]])"
      ]
     },
     "execution_count": 76,
     "metadata": {},
     "output_type": "execute_result"
    }
   ],
   "source": [
    "# get number of first-time purchasers for each year\n",
    "n_new_purch = -pd.DataFrame(state_counts[0, :]).diff().values[1:]\n",
    "n_new_purch"
   ]
  },
  {
   "cell_type": "code",
   "execution_count": 78,
   "metadata": {},
   "outputs": [
    {
     "data": {
      "image/png": "[encoded data removed]",
      "text/plain": [
       "<Figure size 432x288 with 1 Axes>"
      ]
     },
     "metadata": {},
     "output_type": "display_data"
    }
   ],
   "source": [
    "# examine new customers for each year\n",
    "plt.plot(n_new_purch)\n",
    "plt.title('first-time purchasers')\n",
    "plt.xlabel('period')\n",
    "plt.ylabel('# customers');"
   ]
  },
  {
   "cell_type": "markdown",
   "metadata": {},
   "source": [
    "There is no obvious trend and sample size is small, so we model the number of new customers each year as a gaussian distribution with mean and standard deviation of the historical data."
   ]
  },
  {
   "cell_type": "code",
   "execution_count": 79,
   "metadata": {},
   "outputs": [
    {
     "name": "stdout",
     "output_type": "stream",
     "text": [
      "μ: 1719.2\n",
      "σ:  416.6\n"
     ]
    }
   ],
   "source": [
    "# get average number of new customers each year\n",
    "mu = n_new_purch.mean()\n",
    "sigma = n_new_purch.std()\n",
    "\n",
    "def new_customers():\n",
    "    return sigma * np.random.randn() + mu\n",
    "\n",
    "print('μ: {}\\nσ:  {:.1f}'.format(mu, sigma))"
   ]
  },
  {
   "cell_type": "code",
   "execution_count": 82,
   "metadata": {},
   "outputs": [
    {
     "name": "stderr",
     "output_type": "stream",
     "text": [
      "C:\\ProgramData\\Anaconda3\\lib\\site-packages\\scipy\\stats\\stats.py:1713: FutureWarning: Using a non-tuple sequence for multidimensional indexing is deprecated; use `arr[tuple(seq)]` instead of `arr[seq]`. In the future this will be interpreted as an array index, `arr[np.array(seq)]`, which will result either in an error or a different result.\n",
      "  return np.add.reduce(sorted[indexer] * weights, axis=axis) / sumval\n"
     ]
    },
    {
     "data": {
      "image/png": "[encoded data removed]",
      "text/plain": [
       "<Figure size 432x288 with 1 Axes>"
      ]
     },
     "metadata": {},
     "output_type": "display_data"
    }
   ],
   "source": [
    "# plot histogram of new customers\n",
    "X = stats.norm(mu, sigma)\n",
    "x = np.arange(500, 3500)\n",
    "y = X.pdf(x)\n",
    "plt.plot(x, y)\n",
    "sns.distplot(n_new_purch,\n",
    "             hist=False,\n",
    "             rug=True,\n",
    "             rug_kws=dict(linewidth=3),\n",
    "             color=blue)\n",
    "plt.title('first-time purchases')\n",
    "plt.xlabel('# customers')\n",
    "plt.ylabel('density')\n",
    "plt.legend(['model', 'historical']);"
   ]
  },
  {
   "cell_type": "code",
   "execution_count": 83,
   "metadata": {},
   "outputs": [
    {
     "data": {
      "text/plain": [
       "array([0.06252908, 0.61255235, 0.00360633, 0.32131224])"
      ]
     },
     "execution_count": 83,
     "metadata": {},
     "output_type": "execute_result"
    }
   ],
   "source": [
    "# get proportional probabilities for new customers entering the system\n",
    "new_cust_p = T_prob[0, 1:5]\n",
    "new_customer_prop = new_cust_p / new_cust_p.sum()\n",
    "new_customer_prop"
   ]
  },
  {
   "cell_type": "code",
   "execution_count": 84,
   "metadata": {},
   "outputs": [],
   "source": [
    "## refactor transition matrix and reward vectors to allow new customers to enter the system\n",
    "\n",
    "T_prob_proj = T_prob.copy()\n",
    "T_prob_proj[0, 0] = 0\n",
    "T_prob_proj[0, 1:5] = new_customer_prop\n",
    "\n",
    "# reward vector, no implementation of policy\n",
    "r_proj_no_policy = np.zeros(22)\n",
    "r_proj_no_policy[1:] = r.copy()\n",
    "\n",
    "# reward vector, with policy implementation\n",
    "r_proj_policy = np.zeros(22)\n",
    "r_proj_policy[1:] = r.copy()*policy.copy()"
   ]
  },
  {
   "cell_type": "code",
   "execution_count": 85,
   "metadata": {},
   "outputs": [],
   "source": [
    "## project 10 years of revenue, 10000 trials\n",
    "\n",
    "# set periods to project\n",
    "y = 10\n",
    "num_trials = 10000\n",
    "trials_no_policy = np.zeros((num_trials, y))\n",
    "trials_policy = np.zeros((num_trials, y))\n",
    "\n",
    "for trial in range(num_trials):\n",
    "    # initialize customer distribution\n",
    "    customer_dist = state_counts.copy()[:, -1]\n",
    "    for year in range(y):\n",
    "        customer_dist[0] += new_customers()\n",
    "        customer_dist = np.dot(customer_dist, T_prob_proj)\n",
    "        # without implementing policy (churn at 6 periods)\n",
    "        trials_no_policy[trial, year] = np.dot(customer_dist, r_proj_no_policy)*discount**(year+1)\n",
    "        # with the recommended policy\n",
    "        trials_policy[trial, year] = np.dot(customer_dist, r_proj_policy)*discount**(year+1)\n",
    "\n",
    "# get mean and std for all trials\n",
    "no_pol_mu = trials_no_policy.mean(axis=0)\n",
    "no_pol_sig = trials_no_policy.std(axis=0)\n",
    "\n",
    "pol_mu = trials_policy.mean(axis=0)\n",
    "pol_sig = trials_policy.std(axis=0)"
   ]
  },
  {
   "cell_type": "markdown",
   "metadata": {},
   "source": [
    "Now that we have net income projections, lets compare the policies."
   ]
  },
  {
   "cell_type": "code",
   "execution_count": 87,
   "metadata": {},
   "outputs": [
    {
     "data": {
      "image/png": "[encoded data removed]",
      "text/plain": [
       "<Figure size 432x288 with 1 Axes>"
      ]
     },
     "metadata": {},
     "output_type": "display_data"
    }
   ],
   "source": [
    "# calculate and plot means and confidence intervals\n",
    "no_pol_up_ci = no_pol_mu + 1.96*no_pol_sig\n",
    "no_pol_down_ci = no_pol_mu - 1.96*no_pol_sig\n",
    "plt.plot(no_pol_mu)\n",
    "plt.fill_between(np.arange(10),\n",
    "                     no_pol_up_ci,\n",
    "                     no_pol_down_ci,\n",
    "                     alpha=.2)\n",
    "\n",
    "pol_up_ci = pol_mu + 1.96*pol_sig\n",
    "pol_down_ci = pol_mu - 1.96*pol_sig\n",
    "plt.plot(pol_mu)\n",
    "plt.fill_between(np.arange(10),\n",
    "                     pol_up_ci,\n",
    "                     pol_down_ci,\n",
    "                     alpha=.2,\n",
    "                     facecolor=green)\n",
    "\n",
    "plt.xlabel('years')\n",
    "plt.ylabel('net income')\n",
    "plt.title('Projected Net Income Over 10 Years')\n",
    "plt.legend(['without policy', 'policy', '95% CI'], bbox_to_anchor=(1.35, 1));"
   ]
  },
  {
   "cell_type": "code",
   "execution_count": 88,
   "metadata": {},
   "outputs": [
    {
     "data": {
      "image/png": "[encoded data removed]",
      "text/plain": [
       "<Figure size 432x288 with 1 Axes>"
      ]
     },
     "metadata": {},
     "output_type": "display_data"
    }
   ],
   "source": [
    "# check output histograms\n",
    "sns.distplot(trials_no_policy[:, 5], bins=50)\n",
    "sns.distplot(trials_policy[:, 5], bins=50);"
   ]
  },
  {
   "cell_type": "code",
   "execution_count": 90,
   "metadata": {},
   "outputs": [
    {
     "data": {
      "image/png": "[encoded data removed]",
      "text/plain": [
       "<Figure size 432x288 with 1 Axes>"
      ]
     },
     "metadata": {},
     "output_type": "display_data"
    }
   ],
   "source": [
    "## cumulative revenue over 10 years\n",
    "\n",
    "# get mean and std\n",
    "no_pol_cum = trials_no_policy.cumsum(axis=1)\n",
    "no_pol_cum_mu = no_pol_cum.mean(axis=0)\n",
    "no_pol_cum_sig = no_pol_cum.std(axis=0)\n",
    "\n",
    "pol_cum = trials_policy.cumsum(axis=1)\n",
    "pol_cum_mu = pol_cum.mean(axis=0)\n",
    "pol_cum_sig = pol_cum.std(axis=0)\n",
    "\n",
    "# calculate confidence intervals\n",
    "no_pol_cum_up_ci = no_pol_cum_mu + 1.96*no_pol_cum_sig\n",
    "no_pol_cum_down_ci = no_pol_cum_mu - 1.96*no_pol_cum_sig\n",
    "# plot\n",
    "plt.plot(no_pol_cum_mu)\n",
    "plt.fill_between(np.arange(10),\n",
    "                     no_pol_cum_up_ci,\n",
    "                     no_pol_cum_down_ci,\n",
    "                     alpha=.2)\n",
    "\n",
    "# calculate confidence intervals\n",
    "pol_cum_up_ci = pol_cum_mu + 1.96*pol_cum_sig\n",
    "pol_cum_down_ci = pol_cum_mu - 1.96*pol_cum_sig\n",
    "# plot\n",
    "plt.plot(pol_cum_mu)\n",
    "plt.fill_between(np.arange(10),\n",
    "                     pol_cum_up_ci,\n",
    "                     pol_cum_down_ci,\n",
    "                     alpha=.2,\n",
    "                     facecolor=green)\n",
    "\n",
    "# labels\n",
    "plt.xlabel('years')\n",
    "plt.ylabel('net income')\n",
    "plt.title('Projected Net Income Over 10 Years\\n(Cumulative)')\n",
    "plt.legend(['without policy', 'policy', '95% CI'], bbox_to_anchor=(1.35, 1));"
   ]
  },
  {
   "cell_type": "code",
   "execution_count": 91,
   "metadata": {},
   "outputs": [
    {
     "name": "stdout",
     "output_type": "stream",
     "text": [
      "With Policy\n",
      "-------------------------------\n",
      "projected net income: 1954754.08\n",
      "95% CI [1746692.90, 2162815.25]\n",
      "\n",
      "Without Policy\n",
      "-------------------------------\n",
      "projected net income: 1671965.91\n",
      "95% CI [1485458.90, 1858472.93]\n"
     ]
    }
   ],
   "source": [
    "# total revenue over 10 years (no policy)\n",
    "r_n = no_pol_cum_mu[-1]\n",
    "r_n_up_ci = no_pol_cum_mu[-1] + 1.96*no_pol_cum_sig[-1]\n",
    "r_n_down_ci = no_pol_cum_mu[-1] - 1.96*no_pol_cum_sig[-1]\n",
    "\n",
    "# total revenue over 10 years (with policy)\n",
    "r_p = pol_cum_mu[-1]\n",
    "r_p_up_ci = pol_cum_mu[-1] + 1.96*pol_cum_sig[-1]\n",
    "r_p_down_ci = pol_cum_mu[-1] - 1.96*pol_cum_sig[-1]\n",
    "\n",
    "print('''With Policy\n",
    "-------------------------------\n",
    "projected net income: {:.2f}\n",
    "95% CI [{:.2f}, {:.2f}]\n",
    "\n",
    "Without Policy\n",
    "-------------------------------\n",
    "projected net income: {:.2f}\n",
    "95% CI [{:.2f}, {:.2f}]'''.format(r_p, r_p_down_ci, r_p_up_ci,\n",
    "                                  r_n, r_n_down_ci, r_n_up_ci))"
   ]
  },
  {
   "cell_type": "code",
   "execution_count": 94,
   "metadata": {},
   "outputs": [
    {
     "data": {
      "image/png": "[encoded data removed]",
      "text/plain": [
       "<Figure size 432x288 with 1 Axes>"
      ]
     },
     "metadata": {},
     "output_type": "display_data"
    }
   ],
   "source": [
    "# comparison\n",
    "plt.xlabel('total net income')\n",
    "plt.title('Projected Net Income Over 10 Years')\n",
    "sns.barplot(x=[r_n, r_p], y=['no policy', 'policy'], orient='h');"
   ]
  },
  {
   "cell_type": "code",
   "execution_count": 95,
   "metadata": {},
   "outputs": [
    {
     "name": "stdout",
     "output_type": "stream",
     "text": [
      "Estimated savings over 10 years: 282788.16\n",
      "95% CI: [260684.00, 304892.32]\n"
     ]
    }
   ],
   "source": [
    "# policy savings\n",
    "savings = pol_cum - no_pol_cum\n",
    "savings_mu = savings.mean(axis=0)[-1]\n",
    "savings_sig = savings.std(axis=0)[-1]\n",
    "savings_up_ci = savings_mu + 1.96*savings_sig\n",
    "savings_down_ci = savings_mu - 1.96*savings_sig\n",
    "\n",
    "print('''Estimated savings over 10 years: {:.2f}\n",
    "95% CI: [{:.2f}, {:.2f}]'''.format(savings_mu, savings_down_ci, savings_up_ci))"
   ]
  },
  {
   "cell_type": "markdown",
   "metadata": {},
   "source": [
    "So the policy saves around \\$470k over ten years. Not bad for a day's work! This policy should be implemented immediately.\n",
    "\n",
    "It should be noted that 10 years is quite a long time to make projections. This model should be updated every period as new data come in.\n",
    "\n",
    "Another question arises: what would the impact have been if we had implemented this policy over the historical period?"
   ]
  },
  {
   "cell_type": "code",
   "execution_count": 96,
   "metadata": {},
   "outputs": [
    {
     "data": {
      "image/png": "[encoded data removed]",
      "text/plain": [
       "<Figure size 432x288 with 1 Axes>"
      ]
     },
     "metadata": {},
     "output_type": "display_data"
    }
   ],
   "source": [
    "# get count of marketing targets for each historical period\n",
    "cost_count_no_policy = (S > 0).astype(int).sum(axis=0)\n",
    "cost_count_with_policy = np.logical_and(S < 11,\n",
    "                                        np.logical_and(S > 0,\n",
    "                                                       np.logical_and(S != 7, \n",
    "                                                                      S != 8)))\n",
    "cost_count_with_policy = cost_count_with_policy.astype(int).sum(axis=0)\n",
    "# get total costs per period\n",
    "costs_no_policy = cost_count_no_policy*cost\n",
    "costs_with_policy = cost_count_with_policy*cost\n",
    "\n",
    "# subtract marketing costs from historical revenue\n",
    "hist_rev_no_policy  = mon.sum().values - costs_no_policy\n",
    "\n",
    "# implementing the policy means missing out on purchases by returning churners\n",
    "# so adjust the historical revenue accordingly\n",
    "hist_rev_with_policy  = (1 - percent_missed_purchases)*mon.sum().values -\\\n",
    "                        costs_with_policy\n",
    "\n",
    "plt.plot(hist_rev_no_policy[1:])\n",
    "plt.plot(hist_rev_with_policy[1:])\n",
    "plt.xlabel('years')\n",
    "plt.ylabel('revenue')\n",
    "plt.title('Historical Net Income')\n",
    "plt.legend(['without policy', 'with policy'], loc=2);"
   ]
  },
  {
   "cell_type": "code",
   "execution_count": 98,
   "metadata": {},
   "outputs": [
    {
     "data": {
      "image/png": "[encoded data removed]",
      "text/plain": [
       "<Figure size 432x288 with 1 Axes>"
      ]
     },
     "metadata": {},
     "output_type": "display_data"
    }
   ],
   "source": [
    "# estimated revenue if the policy had been implemented on\n",
    "# historical data\n",
    "rh_n = hist_rev_no_policy.sum()\n",
    "rh_p = hist_rev_with_policy.sum()\n",
    "\n",
    "plt.xlabel('total net income')\n",
    "plt.title('Historical Net Income Estimates')\n",
    "sns.barplot(x=[rh_n, rh_p], y=['no policy', 'policy'], orient='h');"
   ]
  },
  {
   "cell_type": "code",
   "execution_count": 99,
   "metadata": {},
   "outputs": [
    {
     "name": "stdout",
     "output_type": "stream",
     "text": [
      "estimated savings on last 10 years: 381090.57\n"
     ]
    }
   ],
   "source": [
    "# estimated savings\n",
    "print('estimated savings on last 10 years: {:.2f}'.format(rh_p - rh_n))"
   ]
  },
  {
   "cell_type": "markdown",
   "metadata": {},
   "source": [
    "So our policy would have saved \\$380k over the last 10 years."
   ]
  },
  {
   "cell_type": "markdown",
   "metadata": {},
   "source": [
    "How good are these models, really? Well, they are generative. Projections are made by feeding new data into the model and simulating customer behavior, ie. turning the crank. By feeding historical data back into the model, we can see how it would do with data that we've already seen.\n",
    "\n",
    "This model will probably be updated with new data every period or so, so I've only plotted projections over 1-year."
   ]
  },
  {
   "cell_type": "code",
   "execution_count": 100,
   "metadata": {},
   "outputs": [
    {
     "data": {
      "image/png": "[encoded data removed]",
      "text/plain": [
       "<Figure size 432x288 with 1 Axes>"
      ]
     },
     "metadata": {},
     "output_type": "display_data"
    }
   ],
   "source": [
    "# set periods to project\n",
    "y = 10\n",
    "num_trials = 10000\n",
    "# initialize simulation arrays\n",
    "sim_no_policy = np.zeros((num_trials, y))\n",
    "sim_policy = np.zeros((num_trials, y))\n",
    "\n",
    "for trial in range(num_trials):\n",
    "    ## simulate each year\n",
    "    for year in range(y):\n",
    "        # get current customer distribution\n",
    "        customer_dist = state_counts.copy()[:, year]\n",
    "        # add new first time purchasers for next period\n",
    "        customer_dist[0] = new_customers()\n",
    "        # get projected distribution for next period\n",
    "        customer_dist = np.dot(customer_dist, T_prob_proj)\n",
    "\n",
    "        ## calculate revenue\n",
    "        # without implementing policy (churn at 6 periods)\n",
    "        sim_no_policy[trial, year] = np.dot(customer_dist, r_proj_no_policy)*discount\n",
    "        # with the recommended policy\n",
    "        sim_policy[trial, year] = np.dot(customer_dist, r_proj_policy)*discount\n",
    "\n",
    "# get mean and std for all trials\n",
    "sim_no_pol_mu = sim_no_policy.mean(axis=0)\n",
    "sim_no_pol_sig = sim_no_policy.std(axis=0)\n",
    "\n",
    "sim_pol_mu = sim_policy.mean(axis=0)\n",
    "sim_pol_sig = sim_policy.std(axis=0)        \n",
    "\n",
    "# calculate and plot means and confidence intervals\n",
    "sim_no_pol_up_ci = sim_no_pol_mu + 1.96*sim_no_pol_sig\n",
    "sim_no_pol_down_ci = sim_no_pol_mu - 1.96*sim_no_pol_sig\n",
    "plt.plot(sim_no_pol_mu)\n",
    "plt.fill_between(np.arange(10), \n",
    "                     sim_no_pol_up_ci, \n",
    "                     sim_no_pol_down_ci, \n",
    "                     alpha=.2)\n",
    "\n",
    "sim_pol_up_ci = sim_pol_mu + 1.96*sim_pol_sig\n",
    "sim_pol_down_ci = sim_pol_mu - 1.96*sim_pol_sig\n",
    "plt.plot(sim_pol_mu)\n",
    "plt.fill_between(np.arange(10), \n",
    "                     sim_pol_up_ci, \n",
    "                     sim_pol_down_ci, \n",
    "                     alpha=.2, \n",
    "                     facecolor=green)\n",
    "\n",
    "# labels\n",
    "plt.xlabel('years')\n",
    "plt.ylabel('net income')\n",
    "plt.title('Model Projections Over Historical Period')\n",
    "plt.legend(['without policy', 'policy', '95% CI'], bbox_to_anchor=(1.35, 1));"
   ]
  },
  {
   "cell_type": "code",
   "execution_count": 54,
   "metadata": {},
   "outputs": [
    {
     "data": {
      "image/png": "[encoded data removed]",
      "text/plain": [
       "<matplotlib.figure.Figure at 0x1187e3dd8>"
      ]
     },
     "metadata": {},
     "output_type": "display_data"
    }
   ],
   "source": [
    "## the first simulation is projected from the first year, so its\n",
    "## predictions should be compared with historical data from the \n",
    "## second year forward\n",
    "\n",
    "sns.plt.plot(sim_no_pol_mu)\n",
    "sns.plt.fill_between(np.arange(10),\n",
    "                     sim_no_pol_up_ci,\n",
    "                     sim_no_pol_down_ci,\n",
    "                     alpha=.2)\n",
    "sns.plt.plot(hist_rev_no_policy[1:], color=blue)\n",
    "sns.plt.xlabel('years')\n",
    "sns.plt.ylabel('net income')\n",
    "sns.plt.title('Historical Data v Model')\n",
    "sns.plt.legend(['model', 'historical', '95% CI'], loc=2);"
   ]
  },
  {
   "cell_type": "code",
   "execution_count": 101,
   "metadata": {},
   "outputs": [
    {
     "data": {
      "image/png": "[encoded data removed]",
      "text/plain": [
       "<Figure size 432x432 with 3 Axes>"
      ]
     },
     "metadata": {},
     "output_type": "display_data"
    }
   ],
   "source": [
    "# linear model comparing simulations with historical data\n",
    "sns.jointplot(hist_rev_no_policy[1:], sim_no_pol_mu, kind='reg', \n",
    "              joint_kws=dict(scatter_kws=dict(color='k', alpha=.9)), \n",
    "              marginal_kws=dict(bins=5, rug=True, \n",
    "                                rug_kws=dict(color = 'k', linewidth=3)))\n",
    "plt.xticks([])\n",
    "plt.yticks([])\n",
    "plt.suptitle('Model Projections v Historical Data', y=1.01)\n",
    "plt.xlabel('historical')\n",
    "plt.ylabel('no policy model');"
   ]
  }
 ],
 "metadata": {
  "kernelspec": {
   "display_name": "Python 3",
   "language": "python",
   "name": "python3"
  },
  "language_info": {
   "codemirror_mode": {
    "name": "ipython",
    "version": 3
   },
   "file_extension": ".py",
   "mimetype": "text/x-python",
   "name": "python",
   "nbconvert_exporter": "python",
   "pygments_lexer": "ipython3",
   "version": "3.6.7"
  },
  "nikola": {
   "category": "",
   "date": "2017-03-17 08:13:28 UTC+08:00",
   "description": "",
   "link": "",
   "slug": "modeling-customer-behavior-with-markov-chains",
   "tags": "",
   "title": "Modeling Customer Behavior with Markov Chains",
   "type": "text"
  }
 },
 "nbformat": 4,
 "nbformat_minor": 1
}
